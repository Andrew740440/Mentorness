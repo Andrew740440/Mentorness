{
 "cells": [
  {
   "cell_type": "code",
   "execution_count": 1,
   "id": "53e95ba0-ba5d-483b-a0b4-53a87c389436",
   "metadata": {},
   "outputs": [],
   "source": [
    "import pandas as pd"
   ]
  },
  {
   "cell_type": "code",
   "execution_count": 2,
   "id": "08844c05-2d33-4825-8517-6e39c61bf44f",
   "metadata": {},
   "outputs": [],
   "source": [
    "import numpy as np"
   ]
  },
  {
   "cell_type": "code",
   "execution_count": 3,
   "id": "441e1f3c-d202-4226-a45c-5ef25c81f7cf",
   "metadata": {},
   "outputs": [],
   "source": [
    "url = 'Corona Virus Dataset.csv'"
   ]
  },
  {
   "cell_type": "code",
   "execution_count": 4,
   "id": "834d3a0c-eb51-4aab-ab6e-31155cc97d8b",
   "metadata": {},
   "outputs": [
    {
     "data": {
      "text/plain": [
       "'Corona Virus Dataset.csv'"
      ]
     },
     "execution_count": 4,
     "metadata": {},
     "output_type": "execute_result"
    }
   ],
   "source": [
    "url"
   ]
  },
  {
   "cell_type": "code",
   "execution_count": 5,
   "id": "8c6da7c4-5b18-400b-9afb-7ce70ca00ae3",
   "metadata": {},
   "outputs": [],
   "source": [
    "df = pd.read_csv(url)"
   ]
  },
  {
   "cell_type": "code",
   "execution_count": 6,
   "id": "6bc3a92c-8a37-4c0b-8434-9758ba1e1956",
   "metadata": {},
   "outputs": [
    {
     "data": {
      "text/html": [
       "<div>\n",
       "<style scoped>\n",
       "    .dataframe tbody tr th:only-of-type {\n",
       "        vertical-align: middle;\n",
       "    }\n",
       "\n",
       "    .dataframe tbody tr th {\n",
       "        vertical-align: top;\n",
       "    }\n",
       "\n",
       "    .dataframe thead th {\n",
       "        text-align: right;\n",
       "    }\n",
       "</style>\n",
       "<table border=\"1\" class=\"dataframe\">\n",
       "  <thead>\n",
       "    <tr style=\"text-align: right;\">\n",
       "      <th></th>\n",
       "      <th>Province</th>\n",
       "      <th>Country/Region</th>\n",
       "      <th>Latitude</th>\n",
       "      <th>Longitude</th>\n",
       "      <th>Date</th>\n",
       "      <th>Confirmed</th>\n",
       "      <th>Deaths</th>\n",
       "      <th>Recovered</th>\n",
       "    </tr>\n",
       "  </thead>\n",
       "  <tbody>\n",
       "    <tr>\n",
       "      <th>0</th>\n",
       "      <td>Afghanistan</td>\n",
       "      <td>Afghanistan</td>\n",
       "      <td>33.93911</td>\n",
       "      <td>67.709953</td>\n",
       "      <td>22-01-2020</td>\n",
       "      <td>0</td>\n",
       "      <td>0</td>\n",
       "      <td>0</td>\n",
       "    </tr>\n",
       "    <tr>\n",
       "      <th>1</th>\n",
       "      <td>Afghanistan</td>\n",
       "      <td>Afghanistan</td>\n",
       "      <td>33.93911</td>\n",
       "      <td>67.709953</td>\n",
       "      <td>23-01-2020</td>\n",
       "      <td>0</td>\n",
       "      <td>0</td>\n",
       "      <td>0</td>\n",
       "    </tr>\n",
       "    <tr>\n",
       "      <th>2</th>\n",
       "      <td>Afghanistan</td>\n",
       "      <td>Afghanistan</td>\n",
       "      <td>33.93911</td>\n",
       "      <td>67.709953</td>\n",
       "      <td>24-01-2020</td>\n",
       "      <td>0</td>\n",
       "      <td>0</td>\n",
       "      <td>0</td>\n",
       "    </tr>\n",
       "    <tr>\n",
       "      <th>3</th>\n",
       "      <td>Afghanistan</td>\n",
       "      <td>Afghanistan</td>\n",
       "      <td>33.93911</td>\n",
       "      <td>67.709953</td>\n",
       "      <td>25-01-2020</td>\n",
       "      <td>0</td>\n",
       "      <td>0</td>\n",
       "      <td>0</td>\n",
       "    </tr>\n",
       "    <tr>\n",
       "      <th>4</th>\n",
       "      <td>Afghanistan</td>\n",
       "      <td>Afghanistan</td>\n",
       "      <td>33.93911</td>\n",
       "      <td>67.709953</td>\n",
       "      <td>26-01-2020</td>\n",
       "      <td>0</td>\n",
       "      <td>0</td>\n",
       "      <td>0</td>\n",
       "    </tr>\n",
       "  </tbody>\n",
       "</table>\n",
       "</div>"
      ],
      "text/plain": [
       "      Province Country/Region  Latitude  Longitude        Date  Confirmed  \\\n",
       "0  Afghanistan    Afghanistan  33.93911  67.709953  22-01-2020          0   \n",
       "1  Afghanistan    Afghanistan  33.93911  67.709953  23-01-2020          0   \n",
       "2  Afghanistan    Afghanistan  33.93911  67.709953  24-01-2020          0   \n",
       "3  Afghanistan    Afghanistan  33.93911  67.709953  25-01-2020          0   \n",
       "4  Afghanistan    Afghanistan  33.93911  67.709953  26-01-2020          0   \n",
       "\n",
       "   Deaths  Recovered  \n",
       "0       0          0  \n",
       "1       0          0  \n",
       "2       0          0  \n",
       "3       0          0  \n",
       "4       0          0  "
      ]
     },
     "execution_count": 6,
     "metadata": {},
     "output_type": "execute_result"
    }
   ],
   "source": [
    "df.head()"
   ]
  },
  {
   "cell_type": "code",
   "execution_count": 7,
   "id": "1256ba73-8fb5-40c2-9daf-8ef99ea01656",
   "metadata": {},
   "outputs": [],
   "source": [
    "df.rename(columns = {'Country/Region':'Country'},inplace = True)"
   ]
  },
  {
   "cell_type": "code",
   "execution_count": 8,
   "id": "bd0ab511-86e1-4992-8c30-94f1a3eb5e8d",
   "metadata": {},
   "outputs": [
    {
     "data": {
      "text/plain": [
       "Index(['Province', 'Country', 'Latitude', 'Longitude', 'Date', 'Confirmed',\n",
       "       'Deaths', 'Recovered'],\n",
       "      dtype='object')"
      ]
     },
     "execution_count": 8,
     "metadata": {},
     "output_type": "execute_result"
    }
   ],
   "source": [
    "df.columns"
   ]
  },
  {
   "cell_type": "code",
   "execution_count": 9,
   "id": "bf57bfca-8d83-455d-8775-30789a641396",
   "metadata": {},
   "outputs": [
    {
     "data": {
      "text/plain": [
       "Province      object\n",
       "Country       object\n",
       "Latitude     float64\n",
       "Longitude    float64\n",
       "Date          object\n",
       "Confirmed      int64\n",
       "Deaths         int64\n",
       "Recovered      int64\n",
       "dtype: object"
      ]
     },
     "execution_count": 9,
     "metadata": {},
     "output_type": "execute_result"
    }
   ],
   "source": [
    "df.dtypes"
   ]
  },
  {
   "cell_type": "code",
   "execution_count": 10,
   "id": "b032d130-2b47-42ef-823c-18aef1ec23d7",
   "metadata": {},
   "outputs": [],
   "source": [
    "df['Date'] = pd.to_datetime(df['Date'], format='%d-%m-%Y')"
   ]
  },
  {
   "cell_type": "code",
   "execution_count": 11,
   "id": "7a49c2b9-86e1-4dfc-aed1-5100d635fea2",
   "metadata": {},
   "outputs": [],
   "source": [
    "# Question 1. Write a code to check NULL values"
   ]
  },
  {
   "cell_type": "code",
   "execution_count": 12,
   "id": "3256c0c0-f637-4938-aa6f-2d4f35ec09dc",
   "metadata": {},
   "outputs": [
    {
     "data": {
      "text/plain": [
       "Province  Country  Latitude  Longitude  Date   Confirmed  Deaths  Recovered\n",
       "False     False    False     False      False  False      False   False        78386\n",
       "Name: count, dtype: int64"
      ]
     },
     "execution_count": 12,
     "metadata": {},
     "output_type": "execute_result"
    }
   ],
   "source": [
    "df.isnull().value_counts()"
   ]
  },
  {
   "cell_type": "code",
   "execution_count": 13,
   "id": "0a51fd12-3dc1-47ea-b6df-845681b01cc0",
   "metadata": {},
   "outputs": [],
   "source": [
    "# Question 2. If NULL values are present, update them with zeros for all columns."
   ]
  },
  {
   "cell_type": "code",
   "execution_count": 14,
   "id": "b22707bd-e3f8-4f70-b1ef-e4622d3f8d08",
   "metadata": {},
   "outputs": [],
   "source": [
    "df.replace(np.NaN,0,inplace = True)"
   ]
  },
  {
   "cell_type": "code",
   "execution_count": 15,
   "id": "22bc98f7-70d7-43a4-9e33-5cfbe1b0e06b",
   "metadata": {},
   "outputs": [
    {
     "data": {
      "text/plain": [
       "Province  Country  Latitude  Longitude  Date   Confirmed  Deaths  Recovered\n",
       "False     False    False     False      False  False      False   False        78386\n",
       "Name: count, dtype: int64"
      ]
     },
     "execution_count": 15,
     "metadata": {},
     "output_type": "execute_result"
    }
   ],
   "source": [
    "df.isnull().value_counts()"
   ]
  },
  {
   "cell_type": "code",
   "execution_count": 16,
   "id": "8d425fe9-ded3-4748-96c3-de652974e99d",
   "metadata": {},
   "outputs": [
    {
     "name": "stdout",
     "output_type": "stream",
     "text": [
      "Requirement already satisfied: ipython-sql in c:\\users\\andrew\\anaconda3.1\\lib\\site-packages (0.5.0)\n",
      "Requirement already satisfied: prettytable in c:\\users\\andrew\\anaconda3.1\\lib\\site-packages (from ipython-sql) (3.10.0)\n",
      "Requirement already satisfied: ipython in c:\\users\\andrew\\anaconda3.1\\lib\\site-packages (from ipython-sql) (8.20.0)\n",
      "Requirement already satisfied: sqlalchemy>=2.0 in c:\\users\\andrew\\anaconda3.1\\lib\\site-packages (from ipython-sql) (2.0.25)\n",
      "Requirement already satisfied: sqlparse in c:\\users\\andrew\\anaconda3.1\\lib\\site-packages (from ipython-sql) (0.5.0)\n",
      "Requirement already satisfied: six in c:\\users\\andrew\\anaconda3.1\\lib\\site-packages (from ipython-sql) (1.16.0)\n",
      "Requirement already satisfied: ipython-genutils in c:\\users\\andrew\\anaconda3.1\\lib\\site-packages (from ipython-sql) (0.2.0)\n",
      "Requirement already satisfied: typing-extensions>=4.6.0 in c:\\users\\andrew\\anaconda3.1\\lib\\site-packages (from sqlalchemy>=2.0->ipython-sql) (4.9.0)\n",
      "Requirement already satisfied: greenlet!=0.4.17 in c:\\users\\andrew\\anaconda3.1\\lib\\site-packages (from sqlalchemy>=2.0->ipython-sql) (3.0.1)\n",
      "Requirement already satisfied: decorator in c:\\users\\andrew\\anaconda3.1\\lib\\site-packages (from ipython->ipython-sql) (5.1.1)\n",
      "Requirement already satisfied: jedi>=0.16 in c:\\users\\andrew\\anaconda3.1\\lib\\site-packages (from ipython->ipython-sql) (0.18.1)\n",
      "Requirement already satisfied: matplotlib-inline in c:\\users\\andrew\\anaconda3.1\\lib\\site-packages (from ipython->ipython-sql) (0.1.6)\n",
      "Requirement already satisfied: prompt-toolkit<3.1.0,>=3.0.41 in c:\\users\\andrew\\anaconda3.1\\lib\\site-packages (from ipython->ipython-sql) (3.0.43)\n",
      "Requirement already satisfied: pygments>=2.4.0 in c:\\users\\andrew\\anaconda3.1\\lib\\site-packages (from ipython->ipython-sql) (2.15.1)\n",
      "Requirement already satisfied: stack-data in c:\\users\\andrew\\anaconda3.1\\lib\\site-packages (from ipython->ipython-sql) (0.2.0)\n",
      "Requirement already satisfied: traitlets>=5 in c:\\users\\andrew\\anaconda3.1\\lib\\site-packages (from ipython->ipython-sql) (5.7.1)\n",
      "Requirement already satisfied: colorama in c:\\users\\andrew\\anaconda3.1\\lib\\site-packages (from ipython->ipython-sql) (0.4.6)\n",
      "Requirement already satisfied: wcwidth in c:\\users\\andrew\\anaconda3.1\\lib\\site-packages (from prettytable->ipython-sql) (0.2.5)\n",
      "Requirement already satisfied: parso<0.9.0,>=0.8.0 in c:\\users\\andrew\\anaconda3.1\\lib\\site-packages (from jedi>=0.16->ipython->ipython-sql) (0.8.3)\n",
      "Requirement already satisfied: executing in c:\\users\\andrew\\anaconda3.1\\lib\\site-packages (from stack-data->ipython->ipython-sql) (0.8.3)\n",
      "Requirement already satisfied: asttokens in c:\\users\\andrew\\anaconda3.1\\lib\\site-packages (from stack-data->ipython->ipython-sql) (2.0.5)\n",
      "Requirement already satisfied: pure-eval in c:\\users\\andrew\\anaconda3.1\\lib\\site-packages (from stack-data->ipython->ipython-sql) (0.2.2)\n"
     ]
    }
   ],
   "source": [
    "!pip install ipython-sql"
   ]
  },
  {
   "cell_type": "code",
   "execution_count": 17,
   "id": "14f72b31-a72c-4088-8b50-9927a01e562d",
   "metadata": {},
   "outputs": [],
   "source": [
    "%reload_ext sql"
   ]
  },
  {
   "cell_type": "code",
   "execution_count": 18,
   "id": "5631af34-6ad5-434f-8ca6-0010d9dfc082",
   "metadata": {},
   "outputs": [],
   "source": [
    "import sqlite3"
   ]
  },
  {
   "cell_type": "code",
   "execution_count": 19,
   "id": "cd7dc455-9adb-427d-a00f-07444d73bd1d",
   "metadata": {},
   "outputs": [],
   "source": [
    "con = sqlite3.connect('SQLiteMagic.db')\n",
    "cur = con.cursor()"
   ]
  },
  {
   "cell_type": "code",
   "execution_count": 20,
   "id": "37a7028f-6892-4192-8b4d-fd67c875d216",
   "metadata": {},
   "outputs": [
    {
     "data": {
      "text/plain": [
       "78386"
      ]
     },
     "execution_count": 20,
     "metadata": {},
     "output_type": "execute_result"
    }
   ],
   "source": [
    "df.to_sql('corona_virus', con, index=False, if_exists='replace')"
   ]
  },
  {
   "cell_type": "code",
   "execution_count": 21,
   "id": "4c6ac76d-3e0b-4d2f-9cc0-b77a968ecf82",
   "metadata": {},
   "outputs": [],
   "source": [
    "%sql sqlite:///SQLiteMagic.db"
   ]
  },
  {
   "cell_type": "code",
   "execution_count": 22,
   "id": "7b90718d-6465-4271-a10c-9b0329c0920e",
   "metadata": {},
   "outputs": [
    {
     "name": "stdout",
     "output_type": "stream",
     "text": [
      " * sqlite:///SQLiteMagic.db\n",
      "Done.\n"
     ]
    },
    {
     "data": {
      "text/html": [
       "<table>\n",
       "    <thead>\n",
       "        <tr>\n",
       "            <th>Province</th>\n",
       "            <th>Country</th>\n",
       "            <th>Latitude</th>\n",
       "            <th>Longitude</th>\n",
       "            <th>Date</th>\n",
       "            <th>Confirmed</th>\n",
       "            <th>Deaths</th>\n",
       "            <th>Recovered</th>\n",
       "        </tr>\n",
       "    </thead>\n",
       "    <tbody>\n",
       "        <tr>\n",
       "            <td>Afghanistan</td>\n",
       "            <td>Afghanistan</td>\n",
       "            <td>33.93911</td>\n",
       "            <td>67.709953</td>\n",
       "            <td>2020-01-22 00:00:00</td>\n",
       "            <td>0</td>\n",
       "            <td>0</td>\n",
       "            <td>0</td>\n",
       "        </tr>\n",
       "        <tr>\n",
       "            <td>Afghanistan</td>\n",
       "            <td>Afghanistan</td>\n",
       "            <td>33.93911</td>\n",
       "            <td>67.709953</td>\n",
       "            <td>2020-01-23 00:00:00</td>\n",
       "            <td>0</td>\n",
       "            <td>0</td>\n",
       "            <td>0</td>\n",
       "        </tr>\n",
       "        <tr>\n",
       "            <td>Afghanistan</td>\n",
       "            <td>Afghanistan</td>\n",
       "            <td>33.93911</td>\n",
       "            <td>67.709953</td>\n",
       "            <td>2020-01-24 00:00:00</td>\n",
       "            <td>0</td>\n",
       "            <td>0</td>\n",
       "            <td>0</td>\n",
       "        </tr>\n",
       "        <tr>\n",
       "            <td>Afghanistan</td>\n",
       "            <td>Afghanistan</td>\n",
       "            <td>33.93911</td>\n",
       "            <td>67.709953</td>\n",
       "            <td>2020-01-25 00:00:00</td>\n",
       "            <td>0</td>\n",
       "            <td>0</td>\n",
       "            <td>0</td>\n",
       "        </tr>\n",
       "        <tr>\n",
       "            <td>Afghanistan</td>\n",
       "            <td>Afghanistan</td>\n",
       "            <td>33.93911</td>\n",
       "            <td>67.709953</td>\n",
       "            <td>2020-01-26 00:00:00</td>\n",
       "            <td>0</td>\n",
       "            <td>0</td>\n",
       "            <td>0</td>\n",
       "        </tr>\n",
       "    </tbody>\n",
       "</table>"
      ],
      "text/plain": [
       "[('Afghanistan', 'Afghanistan', 33.93911, 67.709953, '2020-01-22 00:00:00', 0, 0, 0),\n",
       " ('Afghanistan', 'Afghanistan', 33.93911, 67.709953, '2020-01-23 00:00:00', 0, 0, 0),\n",
       " ('Afghanistan', 'Afghanistan', 33.93911, 67.709953, '2020-01-24 00:00:00', 0, 0, 0),\n",
       " ('Afghanistan', 'Afghanistan', 33.93911, 67.709953, '2020-01-25 00:00:00', 0, 0, 0),\n",
       " ('Afghanistan', 'Afghanistan', 33.93911, 67.709953, '2020-01-26 00:00:00', 0, 0, 0)]"
      ]
     },
     "execution_count": 22,
     "metadata": {},
     "output_type": "execute_result"
    }
   ],
   "source": [
    "%sql select * from corona_virus limit 5;"
   ]
  },
  {
   "cell_type": "code",
   "execution_count": 23,
   "id": "3b98d3cd-43e4-4550-8e50-50dad2e9091b",
   "metadata": {},
   "outputs": [],
   "source": [
    "# Question 3. check total number of rows"
   ]
  },
  {
   "cell_type": "code",
   "execution_count": 24,
   "id": "348d8ab1-83f2-4269-8e6a-12b9e1c22743",
   "metadata": {},
   "outputs": [
    {
     "name": "stdout",
     "output_type": "stream",
     "text": [
      " * sqlite:///SQLiteMagic.db\n",
      "Done.\n"
     ]
    },
    {
     "data": {
      "text/html": [
       "<table>\n",
       "    <thead>\n",
       "        <tr>\n",
       "            <th>count(*)</th>\n",
       "        </tr>\n",
       "    </thead>\n",
       "    <tbody>\n",
       "        <tr>\n",
       "            <td>78386</td>\n",
       "        </tr>\n",
       "    </tbody>\n",
       "</table>"
      ],
      "text/plain": [
       "[(78386,)]"
      ]
     },
     "execution_count": 24,
     "metadata": {},
     "output_type": "execute_result"
    }
   ],
   "source": [
    "%%sql\n",
    "select count(*)\n",
    "from corona_virus;"
   ]
  },
  {
   "cell_type": "code",
   "execution_count": 25,
   "id": "03f3a562-6029-4618-9a45-79a3e7d053e8",
   "metadata": {},
   "outputs": [],
   "source": [
    "# Question 4. Check what is start_date and end_date"
   ]
  },
  {
   "cell_type": "code",
   "execution_count": 26,
   "id": "ef8c9371-dbc8-453a-86cd-aff620472365",
   "metadata": {},
   "outputs": [
    {
     "name": "stdout",
     "output_type": "stream",
     "text": [
      " * sqlite:///SQLiteMagic.db\n",
      "Done.\n"
     ]
    },
    {
     "data": {
      "text/html": [
       "<table>\n",
       "    <thead>\n",
       "        <tr>\n",
       "            <th>Start_date</th>\n",
       "            <th>End_date</th>\n",
       "        </tr>\n",
       "    </thead>\n",
       "    <tbody>\n",
       "        <tr>\n",
       "            <td>2020-01-22 00:00:00</td>\n",
       "            <td>2021-06-13 00:00:00</td>\n",
       "        </tr>\n",
       "    </tbody>\n",
       "</table>"
      ],
      "text/plain": [
       "[('2020-01-22 00:00:00', '2021-06-13 00:00:00')]"
      ]
     },
     "execution_count": 26,
     "metadata": {},
     "output_type": "execute_result"
    }
   ],
   "source": [
    "%%sql\n",
    "select min(Date) as Start_date,max(Date) as End_date\n",
    "from corona_virus;"
   ]
  },
  {
   "cell_type": "code",
   "execution_count": 27,
   "id": "355fd841-781e-4df7-a93a-cadb2ce3809f",
   "metadata": {},
   "outputs": [],
   "source": [
    "# Question 5. Number of month present in dataset"
   ]
  },
  {
   "cell_type": "code",
   "execution_count": 28,
   "id": "4639267d-baad-46b6-b9d4-eea4e3675643",
   "metadata": {},
   "outputs": [
    {
     "name": "stdout",
     "output_type": "stream",
     "text": [
      " * sqlite:///SQLiteMagic.db\n",
      "Done.\n"
     ]
    },
    {
     "data": {
      "text/html": [
       "<table>\n",
       "    <thead>\n",
       "        <tr>\n",
       "            <th>Number_of_Months</th>\n",
       "        </tr>\n",
       "    </thead>\n",
       "    <tbody>\n",
       "        <tr>\n",
       "            <td>18</td>\n",
       "        </tr>\n",
       "    </tbody>\n",
       "</table>"
      ],
      "text/plain": [
       "[(18,)]"
      ]
     },
     "execution_count": 28,
     "metadata": {},
     "output_type": "execute_result"
    }
   ],
   "source": [
    "%%sql\n",
    "SELECT COUNT(DISTINCT strftime('%Y-%m', Date)) AS Number_of_Months\n",
    "FROM corona_virus;"
   ]
  },
  {
   "cell_type": "code",
   "execution_count": 29,
   "id": "4605a51b-d6fd-4209-af36-d0851b946428",
   "metadata": {},
   "outputs": [],
   "source": [
    "# Question 6. Find monthly average for confirmed, deaths, recovered"
   ]
  },
  {
   "cell_type": "code",
   "execution_count": 30,
   "id": "1a96500d-bbcd-4851-aa0c-329e49547036",
   "metadata": {},
   "outputs": [
    {
     "name": "stdout",
     "output_type": "stream",
     "text": [
      " * sqlite:///SQLiteMagic.db\n",
      "Done.\n"
     ]
    },
    {
     "data": {
      "text/html": [
       "<table>\n",
       "    <thead>\n",
       "        <tr>\n",
       "            <th>Month</th>\n",
       "            <th>Average_Confirmed</th>\n",
       "            <th>Average_Deaths</th>\n",
       "            <th>Average_Recovered</th>\n",
       "        </tr>\n",
       "    </thead>\n",
       "    <tbody>\n",
       "        <tr>\n",
       "            <td>01</td>\n",
       "            <td>2958.0</td>\n",
       "            <td>64.0</td>\n",
       "            <td>1451.0</td>\n",
       "        </tr>\n",
       "        <tr>\n",
       "            <td>02</td>\n",
       "            <td>1203.0</td>\n",
       "            <td>34.0</td>\n",
       "            <td>769.0</td>\n",
       "        </tr>\n",
       "        <tr>\n",
       "            <td>03</td>\n",
       "            <td>1539.0</td>\n",
       "            <td>34.0</td>\n",
       "            <td>840.0</td>\n",
       "        </tr>\n",
       "        <tr>\n",
       "            <td>04</td>\n",
       "            <td>2603.0</td>\n",
       "            <td>60.0</td>\n",
       "            <td>1623.0</td>\n",
       "        </tr>\n",
       "        <tr>\n",
       "            <td>05</td>\n",
       "            <td>2290.0</td>\n",
       "            <td>54.0</td>\n",
       "            <td>2163.0</td>\n",
       "        </tr>\n",
       "        <tr>\n",
       "            <td>06</td>\n",
       "            <td>1358.0</td>\n",
       "            <td>41.0</td>\n",
       "            <td>1220.0</td>\n",
       "        </tr>\n",
       "        <tr>\n",
       "            <td>07</td>\n",
       "            <td>1432.0</td>\n",
       "            <td>35.0</td>\n",
       "            <td>983.0</td>\n",
       "        </tr>\n",
       "        <tr>\n",
       "            <td>08</td>\n",
       "            <td>1612.0</td>\n",
       "            <td>38.0</td>\n",
       "            <td>1299.0</td>\n",
       "        </tr>\n",
       "        <tr>\n",
       "            <td>09</td>\n",
       "            <td>1785.0</td>\n",
       "            <td>35.0</td>\n",
       "            <td>1439.0</td>\n",
       "        </tr>\n",
       "        <tr>\n",
       "            <td>10</td>\n",
       "            <td>2412.0</td>\n",
       "            <td>37.0</td>\n",
       "            <td>1421.0</td>\n",
       "        </tr>\n",
       "        <tr>\n",
       "            <td>11</td>\n",
       "            <td>3592.0</td>\n",
       "            <td>57.0</td>\n",
       "            <td>1985.0</td>\n",
       "        </tr>\n",
       "        <tr>\n",
       "            <td>12</td>\n",
       "            <td>4050.0</td>\n",
       "            <td>71.0</td>\n",
       "            <td>2498.0</td>\n",
       "        </tr>\n",
       "    </tbody>\n",
       "</table>"
      ],
      "text/plain": [
       "[('01', 2958.0, 64.0, 1451.0),\n",
       " ('02', 1203.0, 34.0, 769.0),\n",
       " ('03', 1539.0, 34.0, 840.0),\n",
       " ('04', 2603.0, 60.0, 1623.0),\n",
       " ('05', 2290.0, 54.0, 2163.0),\n",
       " ('06', 1358.0, 41.0, 1220.0),\n",
       " ('07', 1432.0, 35.0, 983.0),\n",
       " ('08', 1612.0, 38.0, 1299.0),\n",
       " ('09', 1785.0, 35.0, 1439.0),\n",
       " ('10', 2412.0, 37.0, 1421.0),\n",
       " ('11', 3592.0, 57.0, 1985.0),\n",
       " ('12', 4050.0, 71.0, 2498.0)]"
      ]
     },
     "execution_count": 30,
     "metadata": {},
     "output_type": "execute_result"
    }
   ],
   "source": [
    "%%sql\n",
    "SELECT strftime('%m', Date) AS Month,round(AVG(Confirmed)) as Average_Confirmed,round(AVG(Deaths)) as Average_Deaths,round(AVG(Recovered)) as Average_Recovered\n",
    "FROM corona_virus\n",
    "group by Month;"
   ]
  },
  {
   "cell_type": "code",
   "execution_count": 31,
   "id": "c0873365-6f16-4a4b-93b8-32867eb131af",
   "metadata": {},
   "outputs": [],
   "source": [
    "#  Question 7. Find most frequent value for confirmed, deaths, recovered each month"
   ]
  },
  {
   "cell_type": "code",
   "execution_count": 54,
   "id": "e9a9f604-2aed-4a89-b272-a41904c2b43f",
   "metadata": {},
   "outputs": [
    {
     "name": "stdout",
     "output_type": "stream",
     "text": [
      " * sqlite:///SQLiteMagic.db\n",
      "Done.\n"
     ]
    },
    {
     "data": {
      "text/html": [
       "<table>\n",
       "    <thead>\n",
       "        <tr>\n",
       "            <th>Month</th>\n",
       "            <th>Confirmed</th>\n",
       "            <th>Most_frequent_value_Confirmed</th>\n",
       "        </tr>\n",
       "    </thead>\n",
       "    <tbody>\n",
       "        <tr>\n",
       "            <td>04</td>\n",
       "            <td>22</td>\n",
       "            <td>2554</td>\n",
       "        </tr>\n",
       "        <tr>\n",
       "            <td>05</td>\n",
       "            <td>164</td>\n",
       "            <td>2470</td>\n",
       "        </tr>\n",
       "        <tr>\n",
       "            <td>03</td>\n",
       "            <td>0</td>\n",
       "            <td>2230</td>\n",
       "        </tr>\n",
       "        <tr>\n",
       "            <td>12</td>\n",
       "            <td>242</td>\n",
       "            <td>2120</td>\n",
       "        </tr>\n",
       "        <tr>\n",
       "            <td>01</td>\n",
       "            <td>0</td>\n",
       "            <td>2078</td>\n",
       "        </tr>\n",
       "        <tr>\n",
       "            <td>11</td>\n",
       "            <td>76</td>\n",
       "            <td>2006</td>\n",
       "        </tr>\n",
       "        <tr>\n",
       "            <td>02</td>\n",
       "            <td>0</td>\n",
       "            <td>1857</td>\n",
       "        </tr>\n",
       "        <tr>\n",
       "            <td>10</td>\n",
       "            <td>17</td>\n",
       "            <td>1845</td>\n",
       "        </tr>\n",
       "        <tr>\n",
       "            <td>06</td>\n",
       "            <td>545</td>\n",
       "            <td>1773</td>\n",
       "        </tr>\n",
       "        <tr>\n",
       "            <td>09</td>\n",
       "            <td>34</td>\n",
       "            <td>1523</td>\n",
       "        </tr>\n",
       "        <tr>\n",
       "            <td>08</td>\n",
       "            <td>35</td>\n",
       "            <td>1454</td>\n",
       "        </tr>\n",
       "        <tr>\n",
       "            <td>07</td>\n",
       "            <td>319</td>\n",
       "            <td>1353</td>\n",
       "        </tr>\n",
       "    </tbody>\n",
       "</table>"
      ],
      "text/plain": [
       "[('04', 22, 2554),\n",
       " ('05', 164, 2470),\n",
       " ('03', 0, 2230),\n",
       " ('12', 242, 2120),\n",
       " ('01', 0, 2078),\n",
       " ('11', 76, 2006),\n",
       " ('02', 0, 1857),\n",
       " ('10', 17, 1845),\n",
       " ('06', 545, 1773),\n",
       " ('09', 34, 1523),\n",
       " ('08', 35, 1454),\n",
       " ('07', 319, 1353)]"
      ]
     },
     "execution_count": 54,
     "metadata": {},
     "output_type": "execute_result"
    }
   ],
   "source": [
    "%%sql\n",
    "select strftime('%m',Date) as Month,Confirmed,count(Distinct(Confirmed)) as Most_frequent_value_Confirmed\n",
    "from corona_virus\n",
    "group by Month\n",
    "order by Most_frequent_value_Confirmed desc"
   ]
  },
  {
   "cell_type": "code",
   "execution_count": 55,
   "id": "ecb84d58-4056-4fb0-893e-ad776d95e848",
   "metadata": {},
   "outputs": [
    {
     "name": "stdout",
     "output_type": "stream",
     "text": [
      " * sqlite:///SQLiteMagic.db\n",
      "Done.\n"
     ]
    },
    {
     "data": {
      "text/html": [
       "<table>\n",
       "    <thead>\n",
       "        <tr>\n",
       "            <th>Month</th>\n",
       "            <th>Deaths</th>\n",
       "            <th>Most_frequent_value_Death</th>\n",
       "        </tr>\n",
       "    </thead>\n",
       "    <tbody>\n",
       "        <tr>\n",
       "            <td>04</td>\n",
       "            <td>0</td>\n",
       "            <td>638</td>\n",
       "        </tr>\n",
       "        <tr>\n",
       "            <td>05</td>\n",
       "            <td>4</td>\n",
       "            <td>572</td>\n",
       "        </tr>\n",
       "        <tr>\n",
       "            <td>01</td>\n",
       "            <td>0</td>\n",
       "            <td>520</td>\n",
       "        </tr>\n",
       "        <tr>\n",
       "            <td>12</td>\n",
       "            <td>27</td>\n",
       "            <td>504</td>\n",
       "        </tr>\n",
       "        <tr>\n",
       "            <td>03</td>\n",
       "            <td>0</td>\n",
       "            <td>485</td>\n",
       "        </tr>\n",
       "        <tr>\n",
       "            <td>11</td>\n",
       "            <td>0</td>\n",
       "            <td>456</td>\n",
       "        </tr>\n",
       "        <tr>\n",
       "            <td>02</td>\n",
       "            <td>0</td>\n",
       "            <td>448</td>\n",
       "        </tr>\n",
       "        <tr>\n",
       "            <td>06</td>\n",
       "            <td>8</td>\n",
       "            <td>414</td>\n",
       "        </tr>\n",
       "        <tr>\n",
       "            <td>10</td>\n",
       "            <td>0</td>\n",
       "            <td>374</td>\n",
       "        </tr>\n",
       "        <tr>\n",
       "            <td>08</td>\n",
       "            <td>1</td>\n",
       "            <td>348</td>\n",
       "        </tr>\n",
       "        <tr>\n",
       "            <td>07</td>\n",
       "            <td>28</td>\n",
       "            <td>336</td>\n",
       "        </tr>\n",
       "        <tr>\n",
       "            <td>09</td>\n",
       "            <td>4</td>\n",
       "            <td>334</td>\n",
       "        </tr>\n",
       "    </tbody>\n",
       "</table>"
      ],
      "text/plain": [
       "[('04', 0, 638),\n",
       " ('05', 4, 572),\n",
       " ('01', 0, 520),\n",
       " ('12', 27, 504),\n",
       " ('03', 0, 485),\n",
       " ('11', 0, 456),\n",
       " ('02', 0, 448),\n",
       " ('06', 8, 414),\n",
       " ('10', 0, 374),\n",
       " ('08', 1, 348),\n",
       " ('07', 28, 336),\n",
       " ('09', 4, 334)]"
      ]
     },
     "execution_count": 55,
     "metadata": {},
     "output_type": "execute_result"
    }
   ],
   "source": [
    "%%sql\n",
    "select strftime('%m',Date) as Month,Deaths,count(Distinct(Deaths)) as Most_frequent_value_Death\n",
    "from corona_virus\n",
    "group by Month\n",
    "order by Most_frequent_value_Death desc"
   ]
  },
  {
   "cell_type": "code",
   "execution_count": 56,
   "id": "5f5536c6-3a4c-4515-8003-07df6d55ee19",
   "metadata": {},
   "outputs": [
    {
     "name": "stdout",
     "output_type": "stream",
     "text": [
      " * sqlite:///SQLiteMagic.db\n",
      "Done.\n"
     ]
    },
    {
     "data": {
      "text/html": [
       "<table>\n",
       "    <thead>\n",
       "        <tr>\n",
       "            <th>Month</th>\n",
       "            <th>Recovered</th>\n",
       "            <th>Most_frequent_value_Recovered</th>\n",
       "        </tr>\n",
       "    </thead>\n",
       "    <tbody>\n",
       "        <tr>\n",
       "            <td>05</td>\n",
       "            <td>50</td>\n",
       "            <td>2143</td>\n",
       "        </tr>\n",
       "        <tr>\n",
       "            <td>04</td>\n",
       "            <td>0</td>\n",
       "            <td>1964</td>\n",
       "        </tr>\n",
       "        <tr>\n",
       "            <td>01</td>\n",
       "            <td>0</td>\n",
       "            <td>1765</td>\n",
       "        </tr>\n",
       "        <tr>\n",
       "            <td>12</td>\n",
       "            <td>115</td>\n",
       "            <td>1759</td>\n",
       "        </tr>\n",
       "        <tr>\n",
       "            <td>03</td>\n",
       "            <td>0</td>\n",
       "            <td>1698</td>\n",
       "        </tr>\n",
       "        <tr>\n",
       "            <td>11</td>\n",
       "            <td>5</td>\n",
       "            <td>1613</td>\n",
       "        </tr>\n",
       "        <tr>\n",
       "            <td>02</td>\n",
       "            <td>0</td>\n",
       "            <td>1585</td>\n",
       "        </tr>\n",
       "        <tr>\n",
       "            <td>06</td>\n",
       "            <td>100</td>\n",
       "            <td>1518</td>\n",
       "        </tr>\n",
       "        <tr>\n",
       "            <td>10</td>\n",
       "            <td>53</td>\n",
       "            <td>1405</td>\n",
       "        </tr>\n",
       "        <tr>\n",
       "            <td>09</td>\n",
       "            <td>142</td>\n",
       "            <td>1246</td>\n",
       "        </tr>\n",
       "        <tr>\n",
       "            <td>08</td>\n",
       "            <td>0</td>\n",
       "            <td>1241</td>\n",
       "        </tr>\n",
       "        <tr>\n",
       "            <td>07</td>\n",
       "            <td>1520</td>\n",
       "            <td>1161</td>\n",
       "        </tr>\n",
       "    </tbody>\n",
       "</table>"
      ],
      "text/plain": [
       "[('05', 50, 2143),\n",
       " ('04', 0, 1964),\n",
       " ('01', 0, 1765),\n",
       " ('12', 115, 1759),\n",
       " ('03', 0, 1698),\n",
       " ('11', 5, 1613),\n",
       " ('02', 0, 1585),\n",
       " ('06', 100, 1518),\n",
       " ('10', 53, 1405),\n",
       " ('09', 142, 1246),\n",
       " ('08', 0, 1241),\n",
       " ('07', 1520, 1161)]"
      ]
     },
     "execution_count": 56,
     "metadata": {},
     "output_type": "execute_result"
    }
   ],
   "source": [
    "%%sql\n",
    "select strftime('%m',Date) as Month,Recovered,count(Distinct(Recovered)) as Most_frequent_value_Recovered\n",
    "from corona_virus\n",
    "group by Month\n",
    "order by Most_frequent_value_Recovered desc"
   ]
  },
  {
   "cell_type": "code",
   "execution_count": 35,
   "id": "829e5779-0558-4731-8806-cd1b50be01b4",
   "metadata": {},
   "outputs": [],
   "source": [
    "# Question 8. Find minimum values for confirmed, deaths, recovered per year\n"
   ]
  },
  {
   "cell_type": "code",
   "execution_count": 36,
   "id": "0e71aec9-e15b-47cb-92a3-9e53b7ef0633",
   "metadata": {},
   "outputs": [
    {
     "name": "stdout",
     "output_type": "stream",
     "text": [
      " * sqlite:///SQLiteMagic.db\n",
      "Done.\n"
     ]
    },
    {
     "data": {
      "text/html": [
       "<table>\n",
       "    <thead>\n",
       "        <tr>\n",
       "            <th>Year</th>\n",
       "            <th>Minimum_Confirmed</th>\n",
       "            <th>Minimum_Deaths</th>\n",
       "            <th>Minimum_Recovered</th>\n",
       "        </tr>\n",
       "    </thead>\n",
       "    <tbody>\n",
       "        <tr>\n",
       "            <td>2020</td>\n",
       "            <td>0</td>\n",
       "            <td>0</td>\n",
       "            <td>0</td>\n",
       "        </tr>\n",
       "        <tr>\n",
       "            <td>2021</td>\n",
       "            <td>0</td>\n",
       "            <td>0</td>\n",
       "            <td>0</td>\n",
       "        </tr>\n",
       "    </tbody>\n",
       "</table>"
      ],
      "text/plain": [
       "[('2020', 0, 0, 0), ('2021', 0, 0, 0)]"
      ]
     },
     "execution_count": 36,
     "metadata": {},
     "output_type": "execute_result"
    }
   ],
   "source": [
    "%%sql\n",
    "select strftime('%Y',Date) as Year,min(Confirmed) as Minimum_Confirmed,min(Deaths) as Minimum_Deaths,min(Recovered) as Minimum_Recovered\n",
    "from corona_virus\n",
    "group by Year;"
   ]
  },
  {
   "cell_type": "code",
   "execution_count": 37,
   "id": "426b001c-d4f9-4125-8003-f8a6901ca7b4",
   "metadata": {},
   "outputs": [],
   "source": [
    "# Question 9. Find maximum values of confirmed, deaths, recovered per year"
   ]
  },
  {
   "cell_type": "code",
   "execution_count": 38,
   "id": "c0e42f36-6755-494a-969a-3b5196e1b7a2",
   "metadata": {},
   "outputs": [
    {
     "name": "stdout",
     "output_type": "stream",
     "text": [
      " * sqlite:///SQLiteMagic.db\n",
      "Done.\n"
     ]
    },
    {
     "data": {
      "text/html": [
       "<table>\n",
       "    <thead>\n",
       "        <tr>\n",
       "            <th>Year</th>\n",
       "            <th>Maximum_Confirmed</th>\n",
       "            <th>Maximum_Deaths</th>\n",
       "            <th>Maximum_Recovered</th>\n",
       "        </tr>\n",
       "    </thead>\n",
       "    <tbody>\n",
       "        <tr>\n",
       "            <td>2020</td>\n",
       "            <td>823225</td>\n",
       "            <td>3752</td>\n",
       "            <td>1123456</td>\n",
       "        </tr>\n",
       "        <tr>\n",
       "            <td>2021</td>\n",
       "            <td>414188</td>\n",
       "            <td>7374</td>\n",
       "            <td>422436</td>\n",
       "        </tr>\n",
       "    </tbody>\n",
       "</table>"
      ],
      "text/plain": [
       "[('2020', 823225, 3752, 1123456), ('2021', 414188, 7374, 422436)]"
      ]
     },
     "execution_count": 38,
     "metadata": {},
     "output_type": "execute_result"
    }
   ],
   "source": [
    "%%sql\n",
    "select strftime('%Y',Date) as Year,max(Confirmed) as Maximum_Confirmed,max(Deaths) as Maximum_Deaths,max(Recovered) as Maximum_Recovered\n",
    "from corona_virus\n",
    "group by Year;"
   ]
  },
  {
   "cell_type": "code",
   "execution_count": 39,
   "id": "6ff52424-7a53-4269-8ba7-21631df892d9",
   "metadata": {},
   "outputs": [],
   "source": [
    "# Question 10. The total number of case of confirmed, deaths, recovered each month"
   ]
  },
  {
   "cell_type": "code",
   "execution_count": 40,
   "id": "f9b5b755-fd61-4e68-b2ec-ed3773f2b549",
   "metadata": {},
   "outputs": [
    {
     "name": "stdout",
     "output_type": "stream",
     "text": [
      " * sqlite:///SQLiteMagic.db\n",
      "Done.\n"
     ]
    },
    {
     "data": {
      "text/html": [
       "<table>\n",
       "    <thead>\n",
       "        <tr>\n",
       "            <th>Month</th>\n",
       "            <th>Total_Confirmed</th>\n",
       "            <th>Total_Deaths</th>\n",
       "            <th>Total_Recovered</th>\n",
       "        </tr>\n",
       "    </thead>\n",
       "    <tbody>\n",
       "        <tr>\n",
       "            <td>01</td>\n",
       "            <td>18678589</td>\n",
       "            <td>402083</td>\n",
       "            <td>9164490</td>\n",
       "        </tr>\n",
       "        <tr>\n",
       "            <td>02</td>\n",
       "            <td>10560976</td>\n",
       "            <td>300890</td>\n",
       "            <td>6751190</td>\n",
       "        </tr>\n",
       "        <tr>\n",
       "            <td>03</td>\n",
       "            <td>14694026</td>\n",
       "            <td>323966</td>\n",
       "            <td>8021083</td>\n",
       "        </tr>\n",
       "        <tr>\n",
       "            <td>04</td>\n",
       "            <td>24047819</td>\n",
       "            <td>554220</td>\n",
       "            <td>14998494</td>\n",
       "        </tr>\n",
       "        <tr>\n",
       "            <td>05</td>\n",
       "            <td>21865416</td>\n",
       "            <td>511110</td>\n",
       "            <td>20651389</td>\n",
       "        </tr>\n",
       "        <tr>\n",
       "            <td>06</td>\n",
       "            <td>8991916</td>\n",
       "            <td>270414</td>\n",
       "            <td>8079855</td>\n",
       "        </tr>\n",
       "        <tr>\n",
       "            <td>07</td>\n",
       "            <td>6838092</td>\n",
       "            <td>167613</td>\n",
       "            <td>4693120</td>\n",
       "        </tr>\n",
       "        <tr>\n",
       "            <td>08</td>\n",
       "            <td>7694938</td>\n",
       "            <td>179200</td>\n",
       "            <td>6202833</td>\n",
       "        </tr>\n",
       "        <tr>\n",
       "            <td>09</td>\n",
       "            <td>8244794</td>\n",
       "            <td>160671</td>\n",
       "            <td>6647749</td>\n",
       "        </tr>\n",
       "        <tr>\n",
       "            <td>10</td>\n",
       "            <td>11515841</td>\n",
       "            <td>175484</td>\n",
       "            <td>6782150</td>\n",
       "        </tr>\n",
       "        <tr>\n",
       "            <td>11</td>\n",
       "            <td>16595938</td>\n",
       "            <td>262247</td>\n",
       "            <td>9172292</td>\n",
       "        </tr>\n",
       "        <tr>\n",
       "            <td>12</td>\n",
       "            <td>19336799</td>\n",
       "            <td>339996</td>\n",
       "            <td>11924903</td>\n",
       "        </tr>\n",
       "    </tbody>\n",
       "</table>"
      ],
      "text/plain": [
       "[('01', 18678589, 402083, 9164490),\n",
       " ('02', 10560976, 300890, 6751190),\n",
       " ('03', 14694026, 323966, 8021083),\n",
       " ('04', 24047819, 554220, 14998494),\n",
       " ('05', 21865416, 511110, 20651389),\n",
       " ('06', 8991916, 270414, 8079855),\n",
       " ('07', 6838092, 167613, 4693120),\n",
       " ('08', 7694938, 179200, 6202833),\n",
       " ('09', 8244794, 160671, 6647749),\n",
       " ('10', 11515841, 175484, 6782150),\n",
       " ('11', 16595938, 262247, 9172292),\n",
       " ('12', 19336799, 339996, 11924903)]"
      ]
     },
     "execution_count": 40,
     "metadata": {},
     "output_type": "execute_result"
    }
   ],
   "source": [
    "%%sql\n",
    "select strftime('%m',Date) as Month,sum(Confirmed) as Total_Confirmed,sum(Deaths) as Total_Deaths,sum(Recovered) as Total_Recovered\n",
    "from corona_virus\n",
    "group by Month;"
   ]
  },
  {
   "cell_type": "code",
   "execution_count": 41,
   "id": "f3fdf9a2-1f51-408e-9563-3040ef09c2cb",
   "metadata": {},
   "outputs": [],
   "source": [
    "# Question 11. Check how corona virus spread out with respect to confirmed case(Eg.: total confirmed cases, their average, variance & STDEV )"
   ]
  },
  {
   "cell_type": "code",
   "execution_count": 42,
   "id": "875a2c5e-ba01-40a9-95b7-f10d7f5444ba",
   "metadata": {},
   "outputs": [
    {
     "name": "stdout",
     "output_type": "stream",
     "text": [
      " * sqlite:///SQLiteMagic.db\n",
      "Done.\n"
     ]
    },
    {
     "data": {
      "text/html": [
       "<table>\n",
       "    <thead>\n",
       "        <tr>\n",
       "            <th>Total_confirmed_cases</th>\n",
       "            <th>Average_confirmed_cases</th>\n",
       "            <th>variance_confirmed</th>\n",
       "            <th>STDEV_Confirmed</th>\n",
       "        </tr>\n",
       "    </thead>\n",
       "    <tbody>\n",
       "        <tr>\n",
       "            <td>169065144</td>\n",
       "            <td>2157.0</td>\n",
       "            <td>2156.8283112728072</td>\n",
       "            <td>-4.4168625232486685e-10</td>\n",
       "        </tr>\n",
       "    </tbody>\n",
       "</table>"
      ],
      "text/plain": [
       "[(169065144, 2157.0, 2156.8283112728072, -4.4168625232486685e-10)]"
      ]
     },
     "execution_count": 42,
     "metadata": {},
     "output_type": "execute_result"
    }
   ],
   "source": [
    "%%sql\n",
    "select sum(Confirmed) as Total_confirmed_cases,round(avg(Confirmed)) as Average_confirmed_cases,\n",
    "       avg(Confirmed-(select avg(Confirmed) from corona_virus)*(Confirmed-(select avg(Confirmed) from corona_virus))) as variance_confirmed,\n",
    "       avg(Confirmed-(select avg(Confirmed) from corona_virus)) as STDEV_Confirmed\n",
    "from corona_virus;"
   ]
  },
  {
   "cell_type": "code",
   "execution_count": 43,
   "id": "d0ce10e4-7794-46bb-85f9-05a7124f055f",
   "metadata": {},
   "outputs": [],
   "source": [
    "# Q12. Check how corona virus spread out with respect to death case per month(Eg.: total confirmed cases, their average, variance & STDEV )"
   ]
  },
  {
   "cell_type": "code",
   "execution_count": 44,
   "id": "b5085f7b-befb-48fd-8ed4-8cf8514250fd",
   "metadata": {},
   "outputs": [
    {
     "name": "stdout",
     "output_type": "stream",
     "text": [
      " * sqlite:///SQLiteMagic.db\n",
      "Done.\n"
     ]
    },
    {
     "data": {
      "text/html": [
       "<table>\n",
       "    <thead>\n",
       "        <tr>\n",
       "            <th>Month</th>\n",
       "            <th>Total_Death_cases</th>\n",
       "            <th>Average_Death_cases</th>\n",
       "            <th>variance_Deaths</th>\n",
       "            <th>STDEV_Deaths</th>\n",
       "        </tr>\n",
       "    </thead>\n",
       "    <tbody>\n",
       "        <tr>\n",
       "            <td>01</td>\n",
       "            <td>402083</td>\n",
       "            <td>64.0</td>\n",
       "            <td>-734.1409688000145</td>\n",
       "            <td>17.143614184464706</td>\n",
       "        </tr>\n",
       "        <tr>\n",
       "            <td>02</td>\n",
       "            <td>300890</td>\n",
       "            <td>34.0</td>\n",
       "            <td>604.8204742247024</td>\n",
       "            <td>-12.259830680468623</td>\n",
       "        </tr>\n",
       "        <tr>\n",
       "            <td>03</td>\n",
       "            <td>323966</td>\n",
       "            <td>34.0</td>\n",
       "            <td>620.6444444414913</td>\n",
       "            <td>-12.607323312340487</td>\n",
       "        </tr>\n",
       "        <tr>\n",
       "            <td>04</td>\n",
       "            <td>554220</td>\n",
       "            <td>60.0</td>\n",
       "            <td>-565.621666940438</td>\n",
       "            <td>13.442948995993069</td>\n",
       "        </tr>\n",
       "        <tr>\n",
       "            <td>05</td>\n",
       "            <td>511110</td>\n",
       "            <td>54.0</td>\n",
       "            <td>-271.9071989137395</td>\n",
       "            <td>6.993011836380263</td>\n",
       "        </tr>\n",
       "        <tr>\n",
       "            <td>06</td>\n",
       "            <td>270414</td>\n",
       "            <td>41.0</td>\n",
       "            <td>306.18693670147684</td>\n",
       "            <td>-5.701871299988622</td>\n",
       "        </tr>\n",
       "        <tr>\n",
       "            <td>07</td>\n",
       "            <td>167613</td>\n",
       "            <td>35.0</td>\n",
       "            <td>566.9417796263177</td>\n",
       "            <td>-11.428018745942405</td>\n",
       "        </tr>\n",
       "        <tr>\n",
       "            <td>08</td>\n",
       "            <td>179200</td>\n",
       "            <td>38.0</td>\n",
       "            <td>456.41730765226356</td>\n",
       "            <td>-9.00091359303007</td>\n",
       "        </tr>\n",
       "        <tr>\n",
       "            <td>09</td>\n",
       "            <td>160671</td>\n",
       "            <td>35.0</td>\n",
       "            <td>582.0729585244337</td>\n",
       "            <td>-11.760297757253412</td>\n",
       "        </tr>\n",
       "        <tr>\n",
       "            <td>10</td>\n",
       "            <td>175484</td>\n",
       "            <td>37.0</td>\n",
       "            <td>491.8629741626247</td>\n",
       "            <td>-9.779296500445888</td>\n",
       "        </tr>\n",
       "        <tr>\n",
       "            <td>11</td>\n",
       "            <td>262247</td>\n",
       "            <td>57.0</td>\n",
       "            <td>-419.12276864790243</td>\n",
       "            <td>10.225849428894572</td>\n",
       "        </tr>\n",
       "        <tr>\n",
       "            <td>12</td>\n",
       "            <td>339996</td>\n",
       "            <td>71.0</td>\n",
       "            <td>-1077.3613231876684</td>\n",
       "            <td>24.680695120837477</td>\n",
       "        </tr>\n",
       "    </tbody>\n",
       "</table>"
      ],
      "text/plain": [
       "[('01', 402083, 64.0, -734.1409688000145, 17.143614184464706),\n",
       " ('02', 300890, 34.0, 604.8204742247024, -12.259830680468623),\n",
       " ('03', 323966, 34.0, 620.6444444414913, -12.607323312340487),\n",
       " ('04', 554220, 60.0, -565.621666940438, 13.442948995993069),\n",
       " ('05', 511110, 54.0, -271.9071989137395, 6.993011836380263),\n",
       " ('06', 270414, 41.0, 306.18693670147684, -5.701871299988622),\n",
       " ('07', 167613, 35.0, 566.9417796263177, -11.428018745942405),\n",
       " ('08', 179200, 38.0, 456.41730765226356, -9.00091359303007),\n",
       " ('09', 160671, 35.0, 582.0729585244337, -11.760297757253412),\n",
       " ('10', 175484, 37.0, 491.8629741626247, -9.779296500445888),\n",
       " ('11', 262247, 57.0, -419.12276864790243, 10.225849428894572),\n",
       " ('12', 339996, 71.0, -1077.3613231876684, 24.680695120837477)]"
      ]
     },
     "execution_count": 44,
     "metadata": {},
     "output_type": "execute_result"
    }
   ],
   "source": [
    "%%sql\n",
    "select strftime('%m',Date) as Month,sum(Deaths) as Total_Death_cases,round(avg(Deaths)) as Average_Death_cases,\n",
    "       avg(Deaths-(select avg(Deaths) from corona_virus)*(Deaths-(select avg(Deaths) from corona_virus))) as variance_Deaths,\n",
    "       avg(Deaths-(select avg(Deaths) from corona_virus)) as STDEV_Deaths\n",
    "from corona_virus\n",
    "group by Month;"
   ]
  },
  {
   "cell_type": "code",
   "execution_count": 45,
   "id": "e4a1cf1b-2dcc-4238-86d9-401c6c04b9c8",
   "metadata": {},
   "outputs": [],
   "source": [
    "# Question 13. Check how corona virus spread out with respect to recovered case(Eg.: total confirmed cases, their average, variance & STDEV )"
   ]
  },
  {
   "cell_type": "code",
   "execution_count": 46,
   "id": "54cb50d2-123c-4fb6-a799-c43a15813742",
   "metadata": {},
   "outputs": [
    {
     "name": "stdout",
     "output_type": "stream",
     "text": [
      " * sqlite:///SQLiteMagic.db\n",
      "Done.\n"
     ]
    },
    {
     "data": {
      "text/html": [
       "<table>\n",
       "    <thead>\n",
       "        <tr>\n",
       "            <th>Total_Recovered_cases</th>\n",
       "            <th>Average_Recovered_cases</th>\n",
       "            <th>variance_Recovered</th>\n",
       "            <th>STDEV_Recovered</th>\n",
       "        </tr>\n",
       "    </thead>\n",
       "    <tbody>\n",
       "        <tr>\n",
       "            <td>113089548</td>\n",
       "            <td>1443.0</td>\n",
       "            <td>1442.7263543091583</td>\n",
       "            <td>-2.1397829528663786e-10</td>\n",
       "        </tr>\n",
       "    </tbody>\n",
       "</table>"
      ],
      "text/plain": [
       "[(113089548, 1443.0, 1442.7263543091583, -2.1397829528663786e-10)]"
      ]
     },
     "execution_count": 46,
     "metadata": {},
     "output_type": "execute_result"
    }
   ],
   "source": [
    "%%sql\n",
    "select sum(Recovered) as Total_Recovered_cases,round(avg(Recovered)) as Average_Recovered_cases,\n",
    "       avg(Recovered-(select avg(Recovered) from corona_virus)*(Recovered-(select avg(Recovered) from corona_virus))) as variance_Recovered,\n",
    "       avg(Recovered-(select avg(Recovered) from corona_virus)) as STDEV_Recovered\n",
    "                        \n",
    "from corona_virus;"
   ]
  },
  {
   "cell_type": "code",
   "execution_count": 47,
   "id": "cc045399-cde5-41d7-b5d1-c9ebcc773895",
   "metadata": {},
   "outputs": [],
   "source": [
    "# Q14. Find Country having highest number of the Confirmed case"
   ]
  },
  {
   "cell_type": "code",
   "execution_count": 48,
   "id": "904dd13b-53d2-431f-95b6-065f89a0783a",
   "metadata": {},
   "outputs": [
    {
     "name": "stdout",
     "output_type": "stream",
     "text": [
      " * sqlite:///SQLiteMagic.db\n",
      "Done.\n"
     ]
    },
    {
     "data": {
      "text/html": [
       "<table>\n",
       "    <thead>\n",
       "        <tr>\n",
       "            <th>Country</th>\n",
       "            <th>Total_confirmed_case</th>\n",
       "        </tr>\n",
       "    </thead>\n",
       "    <tbody>\n",
       "        <tr>\n",
       "            <td>US</td>\n",
       "            <td>33461982</td>\n",
       "        </tr>\n",
       "    </tbody>\n",
       "</table>"
      ],
      "text/plain": [
       "[('US', 33461982)]"
      ]
     },
     "execution_count": 48,
     "metadata": {},
     "output_type": "execute_result"
    }
   ],
   "source": [
    "%%sql\n",
    "select Country,sum(Confirmed) as Total_confirmed_case\n",
    "from corona_virus\n",
    "group by Country\n",
    "order by Total_confirmed_case desc\n",
    "limit 1;"
   ]
  },
  {
   "cell_type": "code",
   "execution_count": 49,
   "id": "8a0b6a05-d117-4566-bf78-6bb5a7a44dfc",
   "metadata": {},
   "outputs": [],
   "source": [
    "# Question 15. Find Country having lowest number of the death case"
   ]
  },
  {
   "cell_type": "code",
   "execution_count": 50,
   "id": "4b3c9400-5af5-48de-971c-b3882842fd72",
   "metadata": {},
   "outputs": [
    {
     "name": "stdout",
     "output_type": "stream",
     "text": [
      " * sqlite:///SQLiteMagic.db\n",
      "Done.\n"
     ]
    },
    {
     "data": {
      "text/html": [
       "<table>\n",
       "    <thead>\n",
       "        <tr>\n",
       "            <th>Country</th>\n",
       "            <th>Total_Death_case</th>\n",
       "        </tr>\n",
       "    </thead>\n",
       "    <tbody>\n",
       "        <tr>\n",
       "            <td>Dominica</td>\n",
       "            <td>0</td>\n",
       "        </tr>\n",
       "    </tbody>\n",
       "</table>"
      ],
      "text/plain": [
       "[('Dominica', 0)]"
      ]
     },
     "execution_count": 50,
     "metadata": {},
     "output_type": "execute_result"
    }
   ],
   "source": [
    "%%sql\n",
    "select Country,sum(Deaths) as Total_Death_case\n",
    "from corona_virus\n",
    "group by Country\n",
    "order by Total_death_case asc\n",
    "limit 1;\n",
    "\n"
   ]
  },
  {
   "cell_type": "code",
   "execution_count": 51,
   "id": "2c96270a-bb88-4c4f-8371-071cc7ca0e4d",
   "metadata": {},
   "outputs": [],
   "source": [
    "# Q16. Find top 5 countries having highest recovered case"
   ]
  },
  {
   "cell_type": "code",
   "execution_count": 52,
   "id": "7ba29af3-67a1-4f0a-ae6e-48f82c68a684",
   "metadata": {},
   "outputs": [
    {
     "name": "stdout",
     "output_type": "stream",
     "text": [
      " * sqlite:///SQLiteMagic.db\n",
      "Done.\n"
     ]
    },
    {
     "data": {
      "text/html": [
       "<table>\n",
       "    <thead>\n",
       "        <tr>\n",
       "            <th>Country</th>\n",
       "            <th>Total_Recovered_case</th>\n",
       "        </tr>\n",
       "    </thead>\n",
       "    <tbody>\n",
       "        <tr>\n",
       "            <td>India</td>\n",
       "            <td>28089649</td>\n",
       "        </tr>\n",
       "        <tr>\n",
       "            <td>Brazil</td>\n",
       "            <td>15400169</td>\n",
       "        </tr>\n",
       "        <tr>\n",
       "            <td>US</td>\n",
       "            <td>6303715</td>\n",
       "        </tr>\n",
       "        <tr>\n",
       "            <td>Turkey</td>\n",
       "            <td>5202251</td>\n",
       "        </tr>\n",
       "        <tr>\n",
       "            <td>Russia</td>\n",
       "            <td>4745756</td>\n",
       "        </tr>\n",
       "    </tbody>\n",
       "</table>"
      ],
      "text/plain": [
       "[('India', 28089649),\n",
       " ('Brazil', 15400169),\n",
       " ('US', 6303715),\n",
       " ('Turkey', 5202251),\n",
       " ('Russia', 4745756)]"
      ]
     },
     "execution_count": 52,
     "metadata": {},
     "output_type": "execute_result"
    }
   ],
   "source": [
    "%%sql \n",
    "select Country,sum(Recovered) as Total_Recovered_case\n",
    "from corona_virus\n",
    "group by Country\n",
    "order by Total_Recovered_case desc\n",
    "limit 5;"
   ]
  }
 ],
 "metadata": {
  "kernelspec": {
   "display_name": "Python 3 (ipykernel)",
   "language": "python",
   "name": "python3"
  },
  "language_info": {
   "codemirror_mode": {
    "name": "ipython",
    "version": 3
   },
   "file_extension": ".py",
   "mimetype": "text/x-python",
   "name": "python",
   "nbconvert_exporter": "python",
   "pygments_lexer": "ipython3",
   "version": "3.11.7"
  }
 },
 "nbformat": 4,
 "nbformat_minor": 5
}
